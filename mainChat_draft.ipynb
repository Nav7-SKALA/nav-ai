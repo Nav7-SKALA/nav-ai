{
 "cells": [
  {
   "cell_type": "code",
   "execution_count": 1,
   "metadata": {},
   "outputs": [],
   "source": [
    "## Nav7 agent test code"
   ]
  },
  {
   "cell_type": "code",
   "execution_count": 1,
   "metadata": {},
   "outputs": [],
   "source": [
    "import functools\n",
    "import operator\n",
    "from typing import Annotated, TypedDict, Sequence, Literal\n",
    "from pydantic import BaseModel\n",
    "\n",
    "from langchain_openai import ChatOpenAI\n",
    "from langchain_core.messages import HumanMessage, BaseMessage\n",
    "from langchain_core.prompts import ChatPromptTemplate, MessagesPlaceholder\n",
    "from langchain_community.tools.tavily_search import TavilySearchResults\n",
    "from langchain_experimental.tools import PythonREPLTool\n",
    "from langchain.tools import tool\n",
    "from langgraph.graph import StateGraph, START, END\n",
    "from langgraph.prebuilt import create_react_agent"
   ]
  },
  {
   "cell_type": "markdown",
   "metadata": {},
   "source": [
    "### Tools"
   ]
  },
  {
   "cell_type": "code",
   "execution_count": 2,
   "metadata": {},
   "outputs": [],
   "source": [
    "tavily_tool = TavilySearchResults(max_results=5)\n",
    "python_repl_tools = PythonREPLTool()"
   ]
  },
  {
   "cell_type": "code",
   "execution_count": null,
   "metadata": {},
   "outputs": [],
   "source": [
    "import feedparser\n",
    "import urllib.parse\n",
    "\n",
    "@tool\n",
    "def google_news_search(query: str) -> str:\n",
    "    \"\"\"\n",
    "    Google News에서 특정 키워드에 대한 최신 기술 트렌드를 검색합니다.\n",
    "    예시: '인공지능', '블록체인', '사이버 보안'\n",
    "    \"\"\"\n",
    "    # 쿼리 문자열을 URL 인코딩\n",
    "    encoded_query = urllib.parse.quote(query)\n",
    "    # Google News RSS 피드 URL (검색 쿼리를 포함)\n",
    "    rss_url = f\"https://news.google.com/rss/search?q={encoded_query}&hl=ko&gl=KR&ceid=KR:ko\"\n",
    "\n",
    "    # feedparser를 사용하여 RSS 피드 파싱\n",
    "    feed = feedparser.parse(rss_url)\n",
    "\n",
    "    if not feed.entries:\n",
    "        return f\"'{query}'에 대한 Google News 검색 결과를 찾을 수 없습니다.\"\n",
    "\n",
    "    # 최신 뉴스 5개 추출\n",
    "    news_items = []\n",
    "    for entry in feed.entries[:5]:\n",
    "        news_items.append(f\"제목: {entry.title}\\n링크: {entry.link}\\n\")\n",
    "\n",
    "    return \"\\n\".join(news_items)"
   ]
  },
  {
   "cell_type": "markdown",
   "metadata": {},
   "source": [
    "### Agent\n",
    "\n",
    "supervisor 아래에 Finish, Summary, LearningPath, RoleModel"
   ]
  },
  {
   "cell_type": "code",
   "execution_count": 4,
   "metadata": {},
   "outputs": [],
   "source": [
    "members = [\"CareerSummary\", \"LearningPath\",  \"EXCEPTION\"] # \"RoleModel\",\n",
    "\n",
    "system_prompt = (\n",
    "    \"You are a supervisor tasked with managing a conversation between the\"\n",
    "    \"following workers: {members}. Given the following user request about Job, \"\n",
    "    \"respond with the worker to act next. Each worker will perform a \"\n",
    "    \"task and respond with their results and status. \"\n",
    "    \"if given out of topic, respond with EXCEPTION.\"\n",
    "    \"When finished, respond with FINISH.\"\n",
    ")\n",
    "\n",
    "options = [\"FINISH\"] + members"
   ]
  },
  {
   "cell_type": "code",
   "execution_count": 5,
   "metadata": {},
   "outputs": [],
   "source": [
    "from typing import TypedDict, Optional, List, Dict\n",
    "\n",
    "# 1. 상태 정의\n",
    "class GraphState(TypedDict):\n",
    "    input: str\n",
    "    responses: Dict[str, str]\n",
    "    history: List[str]\n",
    "    current_agent: Optional[str]\n",
    "    next_agent: Optional[str]\n",
    "\n",
    "class routeResponse(BaseModel):\n",
    "    next: Literal[*options]\n",
    "\n",
    "prompt = ChatPromptTemplate.from_messages(\n",
    "    [\n",
    "        (\"system\", system_prompt),\n",
    "        MessagesPlaceholder(variable_name=\"messages\"),\n",
    "        (\n",
    "            \"system\",\n",
    "            \"Given the conversation above, who should act next?\"\n",
    "            \" Or should we FINISH?\"\n",
    "            \" Select one of {options}\",\n",
    "        ),\n",
    "    ]\n",
    ").partial(\n",
    "    options=str(options),\n",
    "    members=\", \".join(members)\n",
    ")\n",
    "\n",
    "llm = ChatOpenAI(model=\"gpt-4o-mini\")\n",
    "\n",
    "# main chatbot supervisor\n",
    "def supervisor_agent(state):\n",
    "    supervisor_chain = (\n",
    "        prompt | llm.with_structured_output(routeResponse)\n",
    "    )\n",
    "    return supervisor_chain.invoke(state)"
   ]
  },
  {
   "cell_type": "markdown",
   "metadata": {},
   "source": [
    "### 하위 에이전트 구성"
   ]
  },
  {
   "cell_type": "code",
   "execution_count": 6,
   "metadata": {},
   "outputs": [],
   "source": [
    "def agent_node(state, agent, name):\n",
    "    result = agent.invoke(state)\n",
    "    return {\"messages\": [HumanMessage(content=result[\"messages\"][-1].content, name=name)]}"
   ]
  },
  {
   "cell_type": "code",
   "execution_count": 7,
   "metadata": {},
   "outputs": [],
   "source": [
    "class AgentState(TypedDict):\n",
    "    messages: Annotated[Sequence[BaseMessage], operator.add]\n",
    "    next: str # 다음 노드 지시 (supervisor 결과)"
   ]
  },
  {
   "cell_type": "code",
   "execution_count": 8,
   "metadata": {},
   "outputs": [],
   "source": [
    "# CareerSummary\n",
    "cs_system_prompt = \"\"\"\n",
    "You are a helpful summarizer who is specialized in \n",
    "gethering valuable info for given user career information and query.\n",
    "user's career information={information}\n",
    "----\n",
    "You have to made KOREAN career summary script.\n",
    "\n",
    "example:\n",
    "\n",
    "**ooo님은 5년차 백엔드 개발 전문가입니다.**\n",
    "\n",
    "- 🔹 총 프로젝트: 12건\n",
    "- 🔹 보유 자격증: AWS Solutions Architect, OCP, 정보처리기사 (총 3개)\n",
    "- 🔹 핵심 기술 스택: Python, Spring Boot, Docker, MySQL, AWS\n",
    "\n",
    "**주요 성과**\n",
    "\n",
    "1. A사 주문관리 시스템 리팩토링 → 응답 속도 30% 향상\n",
    "2. B사 인프라 자동화 도입 프로젝트 주도\n",
    "3. OCP 취득 후 쿠버네티스 기반 배포 파이프라인 구현\n",
    "\n",
    "\"\"\"\n",
    "  # agent 생성\n",
    "careerSummary_agent = create_react_agent(\n",
    "    llm, \n",
    "    tools = [],\n",
    "    state_modifier=cs_system_prompt\n",
    ")\n",
    "careerSummary_node = functools.partial(\n",
    "    agent_node,\n",
    "    agent = careerSummary_agent,\n",
    "    name=\"CareerSummary\"\n",
    ")\n",
    "\n",
    "# LearningPath\n",
    "lp_prompt=\"\"\"\n",
    "You are a highly experienced consultant across multiple industries.\n",
    "\n",
    "Based on the user's career history and past experiences, your task is to:\n",
    "- Recommend clear professional goals for the user.\n",
    "- Suggest actionable steps to achieve those goals, including relevant skills to learn, projects to undertake, and certifications to pursue.\n",
    "\n",
    "Do not repeat information the user already has experience in.  \n",
    "Focus instead on new, meaningful paths for professional growth tailored to the user’s current situation.\n",
    "\n",
    "You may use predefined tools to retrieve any additional information needed.  \n",
    "Organize your final recommendations into categories (e.g., Skills, Projects, Certifications, etc.).\n",
    "\n",
    "⚠️ All responses must be written in Korean.\n",
    "\"\"\"\n",
    "learningPath_agent = create_react_agent(\n",
    "    llm, \n",
    "    tools=[tavily_tool, google_news_search],\n",
    "    state_modifier=lp_prompt\n",
    ")\n",
    "learningPath_node = functools.partial(\n",
    "    agent_node,\n",
    "    agent=learningPath_agent,\n",
    "    name=\"LearningPath\"\n",
    ")\n",
    "\n",
    "\n",
    "# Exception\n",
    "ex_system_prompt = \"\"\"\n",
    "If the user's query is not related to career development or career analysis,  \n",
    "kindly inform the user that you are only able to assist with career-related topics, and end the conversation.\n",
    "\"\"\"\n",
    "  # agent 생성\n",
    "exception_agent = create_react_agent(\n",
    "    llm, \n",
    "    tools=[],\n",
    "    state_modifier=ex_system_prompt\n",
    ")\n",
    "exception_node = functools.partial(\n",
    "    agent_node,\n",
    "    agent = exception_agent,\n",
    "    name=\"Exception\"\n",
    ")"
   ]
  },
  {
   "cell_type": "code",
   "execution_count": 9,
   "metadata": {},
   "outputs": [],
   "source": [
    "workflow = StateGraph(AgentState)\n",
    "\n",
    "workflow.add_node(\"CareerSummary\", careerSummary_node)\n",
    "workflow.add_node(\"LearningPath\", learningPath_node)\n",
    "workflow.add_node(\"EXCEPTION\", exception_node)\n",
    "workflow.add_node(\"supervisor\", supervisor_agent)\n",
    "\n",
    "for member in members:\n",
    "    workflow.add_edge(member, \"supervisor\")\n",
    "\n",
    "conditional_map = {k: k for k in members}\n",
    "conditional_map[\"FINISH\"] = END\n",
    "\n",
    "# supervisor state의 next 값에 따라 조건부 진행\n",
    "\"\"\"\n",
    "## params of add_conditional_edges ##\n",
    "-source(str): starting node\n",
    "-path(Union[Callable Runnable]): determines the next node or nodes\n",
    "-path_map(Optional[dict[Hashable, str]]): mapping of paths to node names\n",
    "-then(Optional[str], default: None) \n",
    "\n",
    "--> Return\n",
    "Self: (instance of the graph)\n",
    "\"\"\"\n",
    "workflow.add_conditional_edges(\n",
    "    \"supervisor\", \n",
    "    lambda x: x[\"next\"], # name of next node\n",
    "    conditional_map)     # path of next node\n",
    "\n",
    "workflow.add_edge(START, \"supervisor\")\n",
    "\n",
    "graph = workflow.compile()"
   ]
  },
  {
   "cell_type": "code",
   "execution_count": 10,
   "metadata": {},
   "outputs": [
    {
     "data": {
      "text/plain": [
       "{'CareerSummary': 'CareerSummary',\n",
       " 'LearningPath': 'LearningPath',\n",
       " 'EXCEPTION': 'EXCEPTION',\n",
       " 'FINISH': '__end__'}"
      ]
     },
     "execution_count": 10,
     "metadata": {},
     "output_type": "execute_result"
    }
   ],
   "source": [
    "conditional_map"
   ]
  },
  {
   "cell_type": "code",
   "execution_count": 11,
   "metadata": {},
   "outputs": [
    {
     "data": {
      "image/png": "[encoded data removed]",
      "text/plain": [
       "<IPython.core.display.Image object>"
      ]
     },
     "metadata": {},
     "output_type": "display_data"
    }
   ],
   "source": [
    "from langchain_teddynote.graphs import visualize_graph\n",
    "\n",
    "visualize_graph(graph)"
   ]
  },
  {
   "cell_type": "markdown",
   "metadata": {},
   "source": [
    "### 실행"
   ]
  },
  {
   "cell_type": "code",
   "execution_count": 14,
   "metadata": {},
   "outputs": [
    {
     "name": "stdout",
     "output_type": "stream",
     "text": [
      "{'supervisor': {'next': 'LearningPath'}}\n",
      "----\n",
      "{'LearningPath': {'messages': [HumanMessage(content='AI 프로젝트 매니저(PM)로의 경로를 원하신다면, 다음과 같은 구체적인 목표와 단계별 계획을 추천드립니다.\\n\\n### 1. 전문 목표 설정\\n- **AI 프로젝트 관리 전문성 강화**: AI 관련 프로젝트를 성공적으로 관리할 수 있는 능력 배양.\\n- **AI 기술 이해도 향상**: AI 기술 전반에 대한 깊은 이해를 바탕으로 프로젝트를 이끌어 갈 능력 개발.\\n\\n### 2. 필요한 기술\\n- **데이터 분석 및 머신러닝 기초**: Python, R과 같은 프로그래밍 언어를 배우고, 데이터 분석, 머신러닝 알고리즘에 대한 이해를 높이세요.\\n- **프로젝트 관리 도구**: Jira, Trello, Asana와 같은 도구를 활용하여 프로젝트 관리 능력을 배양하세요.\\n- **AI 관련 기술**: TensorFlow, PyTorch 등의 AI 프레임워크에 대한 기본적인 이해가 필요합니다.\\n\\n### 3. 프로젝트 제안\\n- **AI 기반의 프로젝트 수행**: 실제로 AI 모델을 개발하거나, AI 기술을 활용한 프로젝트를 계획하고 실행해 보세요. 예를 들어, 고객 데이터를 분석하여 예측 모델을 만드는 프로젝트나, AI를 활용한 비즈니스 프로세스 개선 프로젝트를 진행할 수 있습니다.\\n- **AI와 관련된 해커톤 참여 또는 관련 대회 참가**: 다양한 팀과 협업하여 실질적인 경험을 쌓는 좋은 기회입니다.\\n\\n### 4. 인증 및 교육\\n- **AI 및 데이터 과학 관련 인증**: Coursera, edX, Udacity 등에서 제공하는 AI 및 데이터 과학 관련 인증 과정을 이수하세요. 예를 들어, Google의 AI 인증, IBM의 데이터 과학 인증 등이 있습니다.\\n- **PM 관련 자격증**: PMP(프로젝트 관리 전문가) 또는 PRINCE2 인증을 통해 프로젝트 관리 능력을 공식적으로 인증받는 것도 좋습니다.\\n\\n### 5. 네트워킹 및 멘토링\\n- **AI 및 PM 관련 커뮤니티 참여**: 관련 세미나, 워크숍, 컨퍼런스에 참여하여 업계 전문가와 네트워크를 형성하세요.\\n- **멘토 찾기**: 경험이 많은 AI 프로젝트 매니저에게 멘토링을 요청하여 실무 경험과 통찰력을 얻는 것도 유익합니다.\\n\\n이러한 단계들을 통해 AI 프로젝트 매니저로서의 경로를 확고히 할 수 있을 것입니다. AI의 발전이 빠르게 이루어지고 있는 만큼, 지속적인 학습과 경험이 중요합니다.', additional_kwargs={}, response_metadata={}, name='LearningPath')]}}\n",
      "----\n",
      "{'supervisor': {'next': 'CareerSummary'}}\n",
      "----\n",
      "{'CareerSummary': {'messages': [HumanMessage(content='**고객님은 AI 프로젝트 매니저(PM)로의 경로를 모색하고 계십니다.**\\n\\n- 🔹 **전문 목표**: AI 프로젝트 관리 전문성 강화 및 AI 기술 이해도 향상\\n- 🔹 **필요한 기술**: 데이터 분석 및 머신러닝 기초, 프로젝트 관리 도구(Jira, Trello 등), AI 관련 기술(TensorFlow, PyTorch)\\n- 🔹 **프로젝트 제안**: AI 기반 프로젝트 수행 및 해커톤 참여\\n\\n**주요 단계**\\n\\n1. **전문 목표 설정**: AI 프로젝트를 성공적으로 관리할 수 있는 능력 배양\\n2. **기술 습득**: Python, R 등 프로그래밍 언어 및 AI 프레임워크의 기본 이해\\n3. **프로젝트 수행**: 고객 데이터를 분석하여 예측 모델 개발 등의 프로젝트 진행\\n4. **인증 및 교육**: AI 및 데이터 과학 관련 인증, PMP 또는 PRINCE2 자격증 취득\\n5. **네트워킹 및 멘토링**: AI 및 PM 커뮤니티 참여 및 멘토 찾기\\n\\n이러한 단계들을 통해 AI 프로젝트 매니저로서의 경로를 확고히 할 수 있을 것입니다. 지속적인 학습과 경험이 중요합니다.', additional_kwargs={}, response_metadata={}, name='CareerSummary')]}}\n",
      "----\n",
      "{'supervisor': {'next': 'FINISH'}}\n",
      "----\n"
     ]
    }
   ],
   "source": [
    "for s in graph.stream({\"messages\": [HumanMessage(content=\"AI쪽 PM이 되고 싶으면 어떻게 해야 하나요?\")]}):\n",
    "    if \"__end__\" not in s: # state\n",
    "        print(s)\n",
    "        print(\"----\")"
   ]
  },
  {
   "cell_type": "code",
   "execution_count": null,
   "metadata": {},
   "outputs": [],
   "source": []
  }
 ],
 "metadata": {
  "kernelspec": {
   "display_name": "nav7-l3XefjpI-py3.11",
   "language": "python",
   "name": "python3"
  },
  "language_info": {
   "codemirror_mode": {
    "name": "ipython",
    "version": 3
   },
   "file_extension": ".py",
   "mimetype": "text/x-python",
   "name": "python",
   "nbconvert_exporter": "python",
   "pygments_lexer": "ipython3",
   "version": "3.11.9"
  }
 },
 "nbformat": 4,
 "nbformat_minor": 2
}
